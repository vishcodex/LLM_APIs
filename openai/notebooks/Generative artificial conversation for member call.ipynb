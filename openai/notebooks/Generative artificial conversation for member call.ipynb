{
 "cells": [
  {
   "cell_type": "markdown",
   "id": "bc938a33",
   "metadata": {},
   "source": [
    "## Generating artificial conversations for member call"
   ]
  },
  {
   "cell_type": "code",
   "execution_count": 7,
   "id": "4c61ad41",
   "metadata": {},
   "outputs": [],
   "source": [
    "import json\n",
    "import pandas as pd\n",
    "from openai import OpenAI\n",
    "import requests\n",
    "from tqdm import tqdm\n",
    "import os\n",
    "import random\n",
    "\n",
    "\n",
    "with open('configuration.json') as f:\n",
    "    data = json.load(f)\n",
    "    \n",
    "openai_base_url = data['openai_base_url']\n",
    "openai_api_key = data['openai_api_key']\n",
    "\n",
    "# Set the environmental variable for requests CA bundle and ssl cert file\n",
    "os.environ[\"SSL_CERT_FILE\"] = \"root 1.pem\"\n",
    "os.environ[\"REQUESTS_CA_BUNDLE\"] = \"WellPoint_Internal_Root_CA 3.cer\""
   ]
  },
  {
   "cell_type": "code",
   "execution_count": 8,
   "id": "35b83390",
   "metadata": {},
   "outputs": [],
   "source": [
    "\n",
    "\n",
    "def get_completion(prompt: str, engine: str = \"gpt-35-turbo-0613\", system_prompt: str = None):\n",
    "    messages = [{\"role\": \"system\", \"content\": system_prompt},\n",
    "                {\"role\": \"user\", \"content\": prompt}]\n",
    "    try:\n",
    "        # Initialize the OpenAI client\n",
    "        client = OpenAI(base_url=openai_base_url, api_key=openai_api_key)\n",
    "        \n",
    "        # Create completions\n",
    "        response = client.chat.completions.create(\n",
    "            model=engine,\n",
    "            messages=messages,\n",
    "            frequency_penalty=0,\n",
    "            presence_penalty=0,\n",
    "            temperature=0.9\n",
    "        )\n",
    "        \n",
    "        response = json.loads(response)\n",
    "        \n",
    "        if response['responseCode'] != 200:\n",
    "            print(\"response-----FAILED----------\", response['responseDesc'])\n",
    "            raise Exception(\"GPT gateway error\")\n",
    "        else:\n",
    "            answer = response[\"choices\"][0][\"message\"][\"content\"]\n",
    "            return answer\n",
    "    except Exception as e:\n",
    "        print(\"ERROR---------\", e)"
   ]
  },
  {
   "cell_type": "code",
   "execution_count": 9,
   "id": "c8101879",
   "metadata": {},
   "outputs": [],
   "source": [
    "test_data=[]\n",
    "\n",
    "def generate_artificial_conversations(sample_data: str, num_conversations: int):\n",
    "    # Define the system prompt\n",
    "    system_prompt = \"\"\"\n",
    "    System Prompt:\n",
    "    Your goal is to generate artificial conversations that closely resemble the real ones to facilitate testing and evaluation of our systems.    Each conversation should resemble a typical interaction between a provider and an agent in a healthcare insurance context.\n",
    "    use this sample data as a reference {}\n",
    "    \n",
    "    Instructions:\n",
    "    1. Pay attention to details such as language style, sentiment, and conversational flow.\n",
    "    2. Aim to produce high-quality conversations that can be used for testing and analysis purposes.\n",
    "    3. Do not repeat the same conversation transcript.\n",
    "\n",
    "    \n",
    "    \"\"\".format(sample_data)\n",
    "    \n",
    "\n",
    "    # Iterate over each data point and generate conversations\n",
    "    ind=0\n",
    "    topics=[\"Bills & Payments\",\"Medical & Pharmacy Issues\",\"Benefit & Coverage Inquiries\",\"Provider Search\",\"Claims & Authorizations\",\"Appeals & Grievances\",\"Technology Issues\"]\n",
    "    for i in tqdm(range(num_conversations)):\n",
    "        prompt=f\"\"\"Please generate a hypothetical conversation where a member calls in with a query related to the topic: {topics[ind%7]}.    \n",
    "            During the conversation, please ensure that the agent asks for the following information when appropriate:\n",
    "                1. Full SSN or its last 4 digits\n",
    "                2. Full Credit/Debit card info or its last 4 digits\n",
    "                3. Credit Cards security code and expiry date\n",
    "                4. Bank account number or its last 4 digits.\n",
    "                5. Date of Birth\n",
    "                6. Member ID if available\n",
    "                7. Authorization codes and/or any other medical codes if applicable\n",
    "            \"\"\"\n",
    "        ind+=1\n",
    "        response=get_completion(prompt,system_prompt=system_prompt)\n",
    "#         print(\"response---\", response)\n",
    "        test_data.append(response)\n",
    "        \n",
    "    print(\"res\", test_data)"
   ]
  },
  {
   "cell_type": "code",
   "execution_count": 11,
   "id": "b30513e3",
   "metadata": {},
   "outputs": [
    {
     "name": "stderr",
     "output_type": "stream",
     "text": [
      "100%|████████████████████████████████████████████████████████████████████████████████████| 1/1 [00:09<00:00,  9.68s/it]"
     ]
    },
    {
     "name": "stdout",
     "output_type": "stream",
     "text": [
      "res [\"Agent: Thank you for calling paying plan customer service. This is Sarah. How may I assist you today?\\n\\nMember: Hi Sarah, this is Mark. I have a question regarding my bills and payments.\\n\\nAgent: Of course, Mark. I'll be happy to help you. Before we proceed, may I have your full social security number or its last 4 digits for verification purposes?\\n\\nMember: Sure, it's 1234.\\n\\nAgent: Thank you, Mark. How can I assist you with your bills and payments?\\n\\nMember: I noticed that I've been charged twice for my last doctor's visit. The first charge went through, but the second one seems to be an error.\\n\\nAgent: I apologize for the inconvenience, Mark. To address this issue, I need your member ID if available, or your full name and date of birth, please.\\n\\nMember: My member ID is AB123456. \\n\\nAgent: Thank you, Mark. Let me pull up your account. I see the duplicate charge you're referring to. I will make sure to investigate and resolve this for you. Just to confirm, have you already contacted the provider's office regarding this?\\n\\nMember: Yes, I spoke with them, and they mentioned that I need to contact the insurance company to have the duplicate charge corrected.\\n\\nAgent: I see. Thank you for providing that information. To assist you further, may I have your full credit/debit card information or its last 4 digits, please?\\n\\nMember: Sure, it's 5678.\\n\\nAgent: Thank you, Mark. I appreciate your cooperation. Now, I'll make sure to credit back the duplicate charge to your card. Just to ensure accuracy, could you please provide me with the security code and expiry date of the card?\\n\\nMember: The security code is 123, and the expiry date is 10/24.\\n\\nAgent: Great! Thank you for that information. I will process the refund for the duplicate charge immediately. It may take 7 to 14 business days for the refund to appear on your card statement. Is there anything else I can assist you with, Mark?\\n\\nMember: That's all for now, Sarah. Thank you for your help.\\n\\nAgent: You're welcome, Mark. If you have any other questions in the future, don't hesitate to reach out. Have a great day!\\n\\nMember: You too, Sarah. Goodbye.\\n\\nAgent: Goodbye, Mark. Take care!\", \"Agent: Thank you for calling paying plan customer service. This is Jessica. How may I assist you today?\\n\\nMember: Hi Jessica, I have a question regarding my bills and payments.\\n\\nAgent: Of course, I'll be happy to help you with that. Before we proceed, may I have your full name and date of birth for verification purposes?\\n\\nMember: Yes, my name is Sarah Johnson and my date of birth is January 15th, 1985.\\n\\nAgent: Thank you, Sarah. Now, to better assist you, could you please provide me with your member ID if you have it handy?\\n\\nMember: Sure, my member ID is ABC123456789.\\n\\nAgent: Thank you, Sarah. How can I assist you today?\\n\\nMember: I received a bill stating that my payment was declined, but I'm certain that I have sufficient funds in my account. I'm not sure why it was declined.\\n\\nAgent: I apologize for the inconvenience, Sarah. To investigate this further, I'll need some additional information. Could you please provide me with the last 4 digits of the credit or debit card you used to make the payment?\\n\\nMember: Yes, it's 5678.\\n\\nAgent: Thank you. And can you please verify the expiration date and security code of the card?\\n\\nMember: The expiration date is 03/25 and the security code is 123.\\n\\nAgent: Thank you for providing that information, Sarah. Now, I just need to confirm your billing address. Could you please provide me with the full address?\\n\\nMember: Yes, it's 123 Main Street, Cityville, State, 12345.\\n\\nAgent: Perfect, thank you, Sarah. I have located your account and I can see that the payment was indeed declined. Let me check if there are any specific reasons mentioned in our system.\\n\\nMember: Thank you, Jessica. I appreciate your help.\\n\\nAgent: I can see that the decline reason is due to an expired card. Could you please provide me with the updated credit or debit card information?\\n\\nMember: Oh, I apologize for the oversight. The new card number is 9876.\\n\\nAgent: Thank you, Sarah. And could you please verify the expiration date and security code for the new card as well?\\n\\nMember: The new card expires on 05/27 and the security code is 456.\\n\\nAgent: Great, thank you for providing that. I have updated your payment information in our system. Your payment should go through now. Is there anything else I can assist you with?\\n\\nMember: That's all, Jessica. Thank you for your help.\\n\\nAgent: You're welcome, Sarah! If you have any more questions or concerns in the future, don't hesitate to reach out. Have a wonderful day!\\n\\nMember: You too, Jessica. Goodbye.\\n\\nAgent: Goodbye and take care, Sarah!\"]\n"
     ]
    },
    {
     "name": "stderr",
     "output_type": "stream",
     "text": [
      "\n"
     ]
    }
   ],
   "source": [
    "if __name__ == '__main__':\n",
    "    sample_data = \"\"\"\n",
    "    Agent: Press one for Medicare Advantage Press two for Medicaid Press three for Medicare Supplement.\n",
    "    Agent: Please use your telephone keypad to input. the three digit numeric plan code you are calling about now.\n",
    "    Agent: Just a moment.\n",
    "    Agent: All of our agents are.\n",
    "    Agent: Thank you for calling paying plan customer service. This is John. How may I help you?\n",
    "    Provider: Hey, this is Alice here with XYZ COMPANY. I'm actually doing a follow up to Renee. who called in about one of your members. We've been reaching out to a provider for her request That have been unsuccessful to see if we can get a, give an update to you guys.\n",
    "    Agent: Okay, I'm sorry, I'm confused. so what is the update for?\n",
    "    Provider: You guys member, there's an issue where your member is receiving a bill and it's being filed under a different individual and Rene called in to ask for us to reach out to this provider. We've tried contacting this provider as well sending a letter. So the next step for the claim Rep.\n",
    "    Provider: Email asking me for tab. you guys reject the claim because we have not been successful and get in touch with the provider.\n",
    "    Provider: I have a stuff number that you can reference.\n",
    "    Agent: Okay.\n",
    "    Agent: Hold on, just a second.\n",
    "    Agent: And what's the stuff number?\n",
    "    Provider: And I'm sorry, what did you say your name was?\n",
    "    Agent: It's John.\n",
    "    Provider: Okay, it is, 1234567890.\n",
    "    Agent: And do you have the member three digit prefix and Id number?\n",
    "    Provider: Yeah, I have the, ID number for.\n",
    "    Provider: ABCDEFGH1234567890.\n",
    "    Agent: And their name and date of birth.\n",
    "    Provider: And she was v Brenda Spires with a date of birth of may 22 1990.\n",
    "    Agent: Okay.\n",
    "    Provider: The, the claim is coming on an Harris.\n",
    "    Provider: Just the patient.\n",
    "    Agent: Okay, those claims should have been denied.\n",
    "    Agent: Yes.\n",
    "    Agent: I can get that adjusted and denied.\n",
    "    Provider: Okay.\n",
    "    Agent: It like the system processed, so I don't know that's just weird that would do that. I mean you can clearly see, it's not the same.\n",
    "    Provider: Yeah.\n",
    "    Provider: Two five.\n",
    "    Agent: Okay, so that's all you were wanting you were trying to update and wanted to.\n",
    "    Provider: Yeah, that's how we were doing.\n",
    "    Agent: Deny it on our end so that we can get this.\n",
    "    Agent: Settled here but I can do that that's no problem.\n",
    "    Agent: We say allows 7 to 14 business days but I'm gonna go ahead and take care of this.\n",
    "    Provider: Okay.\n",
    "    Agent: And I do have a reference number for you also.\n",
    "    Provider: Alright back to that. What's your reference number?\n",
    "    Agent: It's ABCD-1234-EFGH-5678.\n",
    "    Provider: Alright, thank you so much.\n",
    "    Agent: Thank you have a good day.\n",
    "    Provider: You do the same, Thank you.\n",
    "    Agent: Thank you. Bye, bye\n",
    "    \"\"\"\n",
    "    generate_artificial_conversations(sample_data, num_conversations=100)\n",
    "\n"
   ]
  },
  {
   "cell_type": "code",
   "execution_count": null,
   "id": "57f508a6",
   "metadata": {},
   "outputs": [],
   "source": [
    "# print(test_data)"
   ]
  },
  {
   "cell_type": "code",
   "execution_count": null,
   "id": "febf6799",
   "metadata": {},
   "outputs": [],
   "source": []
  },
  {
   "cell_type": "code",
   "execution_count": null,
   "id": "a9d2d40c",
   "metadata": {},
   "outputs": [],
   "source": []
  },
  {
   "cell_type": "code",
   "execution_count": null,
   "id": "c9f020fa",
   "metadata": {},
   "outputs": [],
   "source": []
  }
 ],
 "metadata": {
  "kernelspec": {
   "display_name": "test_venv",
   "language": "python",
   "name": "test_venv"
  },
  "language_info": {
   "codemirror_mode": {
    "name": "ipython",
    "version": 3
   },
   "file_extension": ".py",
   "mimetype": "text/x-python",
   "name": "python",
   "nbconvert_exporter": "python",
   "pygments_lexer": "ipython3",
   "version": "3.12.2"
  }
 },
 "nbformat": 4,
 "nbformat_minor": 5
}
